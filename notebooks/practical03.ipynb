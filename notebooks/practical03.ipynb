{
 "cells": [
  {
   "cell_type": "code",
   "execution_count": null,
   "metadata": {},
   "outputs": [],
   "source": [
    "%matplotlib notebook\n",
    "\n",
    "import pandas as pd\n",
    "import numpy as np\n",
    "import matplotlib.pyplot as plt\n",
    "import matplotlib\n",
    "import string\n",
    "import seaborn as sns\n",
    "\n",
    "import scipy as sp\n",
    "from scipy import sparse\n",
    "import sklearn\n",
    "\n",
    "## add your packages ##\n",
    "\n",
    "import time\n",
    "import pickle\n",
    "from openTSNE import TSNE\n",
    "\n",
    "# import memory_profiler\n",
    "\n",
    "# %load_ext memory_profiler\n",
    "\n",
    "from pathlib import Path\n",
    "import os"
   ]
  },
  {
   "cell_type": "code",
   "execution_count": null,
   "metadata": {},
   "outputs": [],
   "source": [
    "import black\n",
    "import jupyter_black\n",
    "\n",
    "jupyter_black.load(line_length=79)"
   ]
  },
  {
   "cell_type": "code",
   "execution_count": null,
   "metadata": {},
   "outputs": [],
   "source": [
    "%matplotlib inline"
   ]
  },
  {
   "cell_type": "code",
   "execution_count": null,
   "metadata": {},
   "outputs": [],
   "source": [
    "variables_path = Path(\"../results/variables\")\n",
    "figures_path = Path(\"../results/figures\")\n",
    "data_path = Path(\"../data\")"
   ]
  },
  {
   "cell_type": "code",
   "execution_count": null,
   "metadata": {},
   "outputs": [],
   "source": [
    "plt.style.use(\"matplotlib_style.txt\")"
   ]
  },
  {
   "cell_type": "code",
   "execution_count": null,
   "metadata": {},
   "outputs": [],
   "source": [
    "np.random.seed(42)"
   ]
  },
  {
   "attachments": {},
   "cell_type": "markdown",
   "metadata": {
    "tags": []
   },
   "source": [
    "# Data\n",
    "\n",
    "We are going to use the multimodal data from the paper Scala et al. 2021 (https://www.nature.com/articles/s41586-020-2907-3#Sec7). In particular, you will work with transcriptomics and electrophysiological data. From the transcriptomics gene counts, we will only work with the exon counts for simplicity. Some of the electrophysiological features are not high-quality recordings, therefore we will also filter them out for the project."
   ]
  },
  {
   "attachments": {},
   "cell_type": "markdown",
   "metadata": {
    "tags": []
   },
   "source": [
    "## Import"
   ]
  },
  {
   "attachments": {},
   "cell_type": "markdown",
   "metadata": {},
   "source": [
    "### Meta data"
   ]
  },
  {
   "cell_type": "code",
   "execution_count": null,
   "metadata": {},
   "outputs": [],
   "source": [
    "# META DATA\n",
    "\n",
    "meta = pd.read_csv(data_path / \"m1_patchseq_meta_data.csv\", sep=\"\\t\")\n",
    "\n",
    "cells = meta[\"Cell\"].values\n",
    "\n",
    "layers = meta[\"Targeted layer\"].values.astype(\"str\")\n",
    "cre = meta[\"Cre\"].values\n",
    "yields = meta[\"Yield (pg/µl)\"].values\n",
    "yields[yields == \"?\"] = np.nan\n",
    "yields = yields.astype(\"float\")\n",
    "depth = meta[\"Soma depth (µm)\"].values\n",
    "depth[depth == \"Slice Lost\"] = np.nan\n",
    "depth = depth.astype(float)\n",
    "thickness = meta[\"Cortical thickness (µm)\"].values\n",
    "thickness[thickness == 0] = np.nan\n",
    "thickness = thickness.astype(float)\n",
    "traced = meta[\"Traced\"].values == \"y\"\n",
    "exclude = meta[\"Exclusion reasons\"].values.astype(str)\n",
    "exclude[exclude == \"nan\"] = \"\"\n",
    "\n",
    "mice_names = meta[\"Mouse\"].values\n",
    "mice_ages = meta[\"Mouse age\"].values\n",
    "mice_cres = np.array(\n",
    "    [\n",
    "        c if c[-1] != \"+\" and c[-1] != \"-\" else c[:-1]\n",
    "        for c in meta[\"Cre\"].values\n",
    "    ]\n",
    ")\n",
    "mice_ages = dict(zip(mice_names, mice_ages))\n",
    "mice_cres = dict(zip(mice_names, mice_cres))\n",
    "\n",
    "print(\"Number of cells with measured depth:    \", np.sum(~np.isnan(depth)))\n",
    "print(\"Number of cells with measured thickness:\", np.sum(~np.isnan(thickness)))\n",
    "print(\"Number of reconstructed cells:          \", np.sum(traced))\n",
    "\n",
    "sliceids = meta[\"Slice\"].values\n",
    "a, b = np.unique(sliceids, return_counts=True)\n",
    "assert np.all(b <= 2)\n",
    "print(\"Number of slices with two cells:        \", np.sum(b == 2))\n",
    "\n",
    "# Some consistency checks\n",
    "assert np.all(\n",
    "    [\n",
    "        np.unique(meta[\"Date\"].values[mice_names == m]).size == 1\n",
    "        for m in mice_names\n",
    "    ]\n",
    ")\n",
    "assert np.all(\n",
    "    [\n",
    "        np.unique(meta[\"Mouse age\"].values[mice_names == m]).size == 1\n",
    "        for m in mice_names\n",
    "    ]\n",
    ")\n",
    "assert np.all(\n",
    "    [\n",
    "        np.unique(meta[\"Mouse gender\"].values[mice_names == m]).size == 1\n",
    "        for m in mice_names\n",
    "    ]\n",
    ")\n",
    "assert np.all(\n",
    "    [\n",
    "        np.unique(meta[\"Mouse genotype\"].values[mice_names == m]).size == 1\n",
    "        for m in mice_names\n",
    "    ]\n",
    ")\n",
    "assert np.all(\n",
    "    [\n",
    "        np.unique(meta[\"Mouse\"].values[sliceids == s]).size == 1\n",
    "        for s in sliceids\n",
    "    ]\n",
    ")"
   ]
  },
  {
   "attachments": {},
   "cell_type": "markdown",
   "metadata": {},
   "source": [
    "### Transcriptomic data"
   ]
  },
  {
   "cell_type": "code",
   "execution_count": null,
   "metadata": {},
   "outputs": [],
   "source": [
    "# READ COUNTS\n",
    "\n",
    "data_exons = pd.read_csv(\n",
    "    data_path / \"m1_patchseq_exon_counts.csv.gz\", na_filter=False, index_col=0\n",
    ")\n",
    "exonCounts = data_exons.values.transpose()\n",
    "\n",
    "assert all(cells == data_exons.columns)\n",
    "genes = np.array(data_exons.index)\n",
    "\n",
    "print(\"Count matrix shape (exon):  \", exonCounts.shape)"
   ]
  },
  {
   "cell_type": "code",
   "execution_count": null,
   "metadata": {},
   "outputs": [],
   "source": [
    "data_exons"
   ]
  },
  {
   "cell_type": "code",
   "execution_count": null,
   "metadata": {},
   "outputs": [],
   "source": [
    "# GENE LENGTH\n",
    "\n",
    "data = pd.read_csv(data_path / \"gene_lengths.txt\")\n",
    "assert all(data[\"GeneID\"] == genes)\n",
    "exonLengths = data[\"exon_bp\"].values\n",
    "intronLengths = data[\"intron_bp\"].values\n",
    "print(exonLengths)"
   ]
  },
  {
   "attachments": {},
   "cell_type": "markdown",
   "metadata": {},
   "source": [
    "### Cluster colors"
   ]
  },
  {
   "cell_type": "code",
   "execution_count": null,
   "metadata": {},
   "outputs": [],
   "source": [
    "cluster_colors = np.load(data_path / \"cluster_colors.npy\")"
   ]
  },
  {
   "cell_type": "code",
   "execution_count": null,
   "metadata": {},
   "outputs": [],
   "source": [
    "cluster_colors.shape"
   ]
  },
  {
   "cell_type": "code",
   "execution_count": null,
   "metadata": {},
   "outputs": [],
   "source": [
    "rna_type = np.load(data_path / \"rna_type.npy\", allow_pickle=True)"
   ]
  },
  {
   "cell_type": "code",
   "execution_count": null,
   "metadata": {},
   "outputs": [],
   "source": [
    "rna_type.shape"
   ]
  },
  {
   "cell_type": "code",
   "execution_count": null,
   "metadata": {},
   "outputs": [],
   "source": [
    "pickle_in = open(data_path / \"dict_rna_type_colors.pkl\", \"rb\")\n",
    "dict_rna_type_colors = pickle.load(pickle_in)"
   ]
  },
  {
   "cell_type": "code",
   "execution_count": null,
   "metadata": {},
   "outputs": [],
   "source": [
    "len(dict_rna_type_colors)"
   ]
  },
  {
   "attachments": {},
   "cell_type": "markdown",
   "metadata": {},
   "source": [
    "### Electrophysiological features"
   ]
  },
  {
   "cell_type": "code",
   "execution_count": null,
   "metadata": {},
   "outputs": [],
   "source": [
    "# EPHYS DATA\n",
    "\n",
    "ephysData = pd.read_csv(data_path / \"m1_patchseq_ephys_features.csv\")\n",
    "ephysNames = np.array(ephysData.columns[1:]).astype(str)\n",
    "ephysCells = ephysData[\"cell id\"].values\n",
    "ephysData = ephysData.values[:, 1:].astype(\"float\")\n",
    "names2ephys = dict(zip(ephysCells, ephysData))\n",
    "ephysData = np.array(\n",
    "    [\n",
    "        names2ephys[c] if c in names2ephys else ephysData[0] * np.nan\n",
    "        for c in cells\n",
    "    ]\n",
    ")\n",
    "\n",
    "print(\"Number of cells with ephys data:\", np.sum(np.isin(cells, ephysCells)))\n",
    "\n",
    "assert np.sum(~np.isin(ephysCells, cells)) == 0"
   ]
  },
  {
   "cell_type": "code",
   "execution_count": null,
   "metadata": {},
   "outputs": [],
   "source": [
    "# Filtering ephys data\n",
    "\n",
    "features_exclude = [\n",
    "    \"Afterdepolarization (mV)\",\n",
    "    \"AP Fano factor\",\n",
    "    \"ISI Fano factor\",\n",
    "    \"Latency @ +20pA current (ms)\",\n",
    "    \"Wildness\",\n",
    "    \"Spike frequency adaptation\",\n",
    "    \"Sag area (mV*s)\",\n",
    "    \"Sag time (s)\",\n",
    "    \"Burstiness\",\n",
    "    \"AP amplitude average adaptation index\",\n",
    "    \"ISI average adaptation index\",\n",
    "    \"Rebound number of APs\",\n",
    "]\n",
    "features_log = [\n",
    "    \"AP coefficient of variation\",\n",
    "    \"ISI coefficient of variation\",\n",
    "    \"ISI adaptation index\",\n",
    "    \"Latency (ms)\",\n",
    "]\n",
    "\n",
    "X = ephysData\n",
    "print(X.shape)\n",
    "for e in features_log:\n",
    "    X[:, ephysNames == e] = np.log(X[:, ephysNames == e])\n",
    "X = X[:, ~np.isin(ephysNames, features_exclude)]\n",
    "\n",
    "keepcells = ~np.isnan(np.sum(X, axis=1))\n",
    "X = X[keepcells, :]\n",
    "print(X.shape)\n",
    "\n",
    "X = X - X.mean(axis=0)\n",
    "ephysData_filtered = X / X.std(axis=0)"
   ]
  },
  {
   "cell_type": "code",
   "execution_count": null,
   "metadata": {},
   "outputs": [],
   "source": [
    "np.sum(np.isnan(ephysData_filtered))"
   ]
  },
  {
   "attachments": {},
   "cell_type": "markdown",
   "metadata": {},
   "source": [
    "# Research questions to investigate\n",
    "\n",
    "**1) Inspect the data computing different statistics.** Keep in mind that the data is read counts, not UMI, so it is not supposed to follow a Poisson distribution.\n",
    "\n",
    "**2) Normalize and transform the data.** There are several ways of normalizing the data (Raw, CPM, CPMedian, RPKM, see https://www.reneshbedre.com/blog/expression_units.html, https://translational-medicine.biomedcentral.com/articles/10.1186/s12967-021-02936-w). Take into account that there are certain normalizations that only make sense for UMI data. You also explored different transformations in the assignment (none, log, sqrt). Compare how the different transformations change the two-dimensional visualization.\n",
    "\n",
    "**3) Two-dimensional visualization.** Try different methods (t-SNE, UMAP) / parameters (exagg., perplex.) for visualizations. Compare them using quantitative metrics (e.g., distance correlation, kNN accuracy/recall in high-dim vs. two-dim). Think about also using the electrophysiological features for different visualizations.\n",
    "\n",
    "**4) Clustering.** Try different clustering methods (leiden, GMM). Implement a negative binomial mixture model. For that you can follow a similar method that what is described in Harris et al. 2018 (https://journals.plos.org/plosbiology/article?id=10.1371/journal.pbio.2006387#abstract0), with fixed r (r=2) and S (set of important genes). Evaluate your clustering results (metrics, compare number of clusters to original labels,...).\n",
    "\n",
    "**5) Correlation in between electrophysiological features and genes/PCs.** Find correlations and a way of visualizing them.\n",
    "    "
   ]
  },
  {
   "cell_type": "markdown",
   "metadata": {},
   "source": []
  },
  {
   "attachments": {},
   "cell_type": "markdown",
   "metadata": {},
   "source": [
    "## 1) Inspecting Data"
   ]
  },
  {
   "cell_type": "code",
   "execution_count": null,
   "metadata": {},
   "outputs": [],
   "source": [
    "# check for nan\n",
    "assert np.isnan(exonCounts).sum() == 0"
   ]
  },
  {
   "cell_type": "code",
   "execution_count": null,
   "metadata": {},
   "outputs": [],
   "source": [
    "# Kick out all genes with all counts = 0\n",
    "genes = genes[exonCounts.sum(axis=0) > 0]\n",
    "exonLengths = exonLengths[exonCounts.sum(axis=0) > 0]\n",
    "exonCounts = exonCounts[:, exonCounts.sum(axis=0) > 0]\n",
    "\n",
    "# check if they keep same size\n",
    "assert genes.size == exonCounts.shape[1]"
   ]
  },
  {
   "cell_type": "code",
   "execution_count": null,
   "metadata": {},
   "outputs": [],
   "source": [
    "# Compute the average expression for each gene\n",
    "avg_counts = np.mean(exonCounts, axis=0)\n",
    "\n",
    "# Compute the fraction of zeros for each gene\n",
    "zero_fraction = np.sum(exonCounts == 0, axis=0) / exonCounts.shape[0]"
   ]
  },
  {
   "cell_type": "code",
   "execution_count": null,
   "metadata": {},
   "outputs": [],
   "source": [
    "# Compute the Poisson prediction\n",
    "\n",
    "Poiss_predicted_fraction = np.exp(-np.unique(avg_counts))\n",
    "\n",
    "\n",
    "# Plot\n",
    "\n",
    "fig, ax = plt.subplots(figsize=(6, 4))\n",
    "ax.scatter(avg_counts, zero_fraction, s=5, label=\"Data\")\n",
    "ax.plot(\n",
    "    np.unique(avg_counts),\n",
    "    Poiss_predicted_fraction,\n",
    "    c=\"red\",\n",
    "    label=\"Possion Prediction\",\n",
    ")\n",
    "\n",
    "ax.set_ylabel(\"Fraction of zero expression\")\n",
    "ax.set_xlabel(\"Mean read counts\")\n",
    "ax.set_title(\"Fraction of zeros for each gene vs Poisson prediction\")\n",
    "\n",
    "ax.legend()\n",
    "ax.set_xscale(\"log\")\n",
    "# add plot"
   ]
  },
  {
   "cell_type": "markdown",
   "metadata": {},
   "source": [
    "Chen, W., Li, Y., Easton, J. et al. UMI-count modeling and differential expression analysis for single-cell RNA sequencing. Genome Biol 19, 70 (2018). https://doi.org/10.1186/s13059-018-1438-9\n",
    "\n",
    "Jiang, R., Sun, T., Song, D. et al. Statistics or biology: the zero-inflation controversy about scRNA-seq data. Genome Biol 23, 31 (2022). https://doi.org/10.1186/s13059-022-02601-\n"
   ]
  },
  {
   "cell_type": "markdown",
   "metadata": {},
   "source": [
    "As we were expecting, the read counts seem to deviate significantly from the Poisson model. First observation is that the fraction of zeroes observed is consistently higher than a poisson model would predict. Another one is a visually noticeable variability of the mean read counts for a same fraction of zeros, resulting in a wide curve (very different from what was observed in the dataset of CodingLab 7). One of the main factors underlying this deviances is probably the so-called amplification bias. Since the amount of transcripts collected from single cells is very small, cDNA amplification is necessary for the construction of the library. Nevertheless, this amplification is also a stochastic process, resulting in distortions (e.g., the same amount of a specific transcript was captured for two different cells. But in one of them, the cDNA amplification lead to a higher amount of read counts) (Chen et al. 2018). The UMI techniques try to mitigate this bias, by tagging the transcripts befor amplification.\n",
    "\n",
    "Another point raised by Chen et al. (2018) is the higher number of dropout events in single cell sequencing (missing values, due to biological and technical stochasticities). The authors argue that accounting for these kind of event is relevant for read counts, but not much for UMI. Apparently, there is a big discussion in the scRNA-seq field if models should include zero inflations (to correct for the dropout events) or not (Jiang et al. 2022). "
   ]
  },
  {
   "cell_type": "markdown",
   "metadata": {},
   "source": [
    "### Some statistics"
   ]
  },
  {
   "cell_type": "code",
   "execution_count": null,
   "metadata": {},
   "outputs": [],
   "source": [
    "depth = np.sum(exonCounts, axis=1)\n",
    "genes_detected = np.sum(exonCounts != 0, axis=1)\n",
    "\n",
    "# Basic statistics (same reported in GitHub https://github.com/berenslab/mini-atlas/blob/master/code/ttype-assignment.ipynb)\n",
    "print(\n",
    "    \"Depth: median {:.0f}, mean+-STD log10: {:.1f}+-{:.1f}\".format(\n",
    "        np.median(depth), np.mean(np.log10(depth)), np.std(np.log10(depth))\n",
    "    )\n",
    ")\n",
    "\n",
    "\n",
    "print(\n",
    "    \"Genes detected per cell: median {:.0f}, mean+-STD: {:.0f}+-{:.0f}\".format(\n",
    "        np.mean(genes_detected),\n",
    "        np.mean(genes_detected),\n",
    "        np.std(genes_detected),\n",
    "    )\n",
    ")"
   ]
  },
  {
   "cell_type": "code",
   "execution_count": null,
   "metadata": {},
   "outputs": [],
   "source": [
    "# Plot\n",
    "fig, axs = plt.subplots(1, 2, figsize=(10, 4))\n",
    "\n",
    "# Plot number of detected genes vs number of counts\n",
    "axs[0].scatter(depth, genes_detected, s=10)\n",
    "axs[0].set_xscale(\"log\")\n",
    "axs[0].set_ylim(0, 20000)\n",
    "axs[0].set_ylabel(\"Number of detected Genes\")\n",
    "axs[0].set_xlabel(\"Sum of counts\")\n",
    "axs[0].set_title(\"\")\n",
    "\n",
    "# Plot histogram of sequencing depths (1 pt)\n",
    "axs[1].hist(depth, bins=20)\n",
    "axs[1].set_xlabel(\"Sum of counts per cell\")\n",
    "axs[1].set_ylabel(\"Number of Cells\")\n",
    "axs[1].set_title(\"Sequencing depth per cell\")"
   ]
  },
  {
   "cell_type": "markdown",
   "metadata": {},
   "source": [
    "#### Mean-Variance analysis"
   ]
  },
  {
   "cell_type": "code",
   "execution_count": null,
   "metadata": {},
   "outputs": [],
   "source": [
    "# Compute the variance of the expression counts of each gene\n",
    "var_counts = np.var(exonCounts, axis=0)\n",
    "\n",
    "# Fano factor\n",
    "Fano = var_counts / avg_counts\n",
    "\n",
    "fig, axs = plt.subplots(1, 2, figsize=(10, 4))\n",
    "\n",
    "axs[0].scatter(avg_counts, var_counts, s=10)\n",
    "axs[0].plot(\n",
    "    np.arange(0, np.max(avg_counts), 1),\n",
    "    np.arange(0, np.max(avg_counts), 1),\n",
    "    color=\"r\",\n",
    "    linewidth=2,\n",
    "    label=\"y = x\",\n",
    ")\n",
    "\n",
    "axs[0].set_xscale(\"log\")\n",
    "axs[0].set_yscale(\"log\")\n",
    "axs[0].set_xlabel(\"Mean Expression\")\n",
    "axs[0].set_ylabel(\"Expression Variance\")\n",
    "axs[0].set_title(\"Gene variance vs mean expression\")\n",
    "axs[0].tick_params(which=\"minor\", length=1, color=\"k\")\n",
    "axs[0].tick_params(which=\"major\", length=5, color=\"k\")\n",
    "axs[0].legend()\n",
    "\n",
    "# Fano Plot\n",
    "axs[1].scatter(avg_counts, Fano, s=10)\n",
    "axs[1].plot(\n",
    "    np.arange(0, np.max(avg_counts), 1),\n",
    "    np.ones(np.arange(0, np.max(avg_counts), 1).size),\n",
    "    color=\"r\",\n",
    "    linewidth=2,\n",
    "    label=\"Model: F = 1\",\n",
    ")\n",
    "axs[1].set_xlabel(\"Mean Expression\")\n",
    "axs[1].set_ylabel(\"Fano Factor\")\n",
    "axs[1].set_title(\"Fano Factor vs mean expression\")\n",
    "# axs[1].set_ylim(0.4, 200)\n",
    "axs[1].set_xscale(\"log\")\n",
    "axs[1].set_yscale(\"log\")\n",
    "axs[1].tick_params(which=\"minor\", length=2, color=\"k\")\n",
    "axs[1].tick_params(which=\"major\", length=5, color=\"k\")\n",
    "\n",
    "axs[1].legend()"
   ]
  },
  {
   "cell_type": "code",
   "execution_count": null,
   "metadata": {},
   "outputs": [],
   "source": [
    "def geneSelection(\n",
    "    data,\n",
    "    threshold=0,\n",
    "    atleast=10,\n",
    "    yoffset=0.02,\n",
    "    xoffset=5,\n",
    "    decay=1.5,\n",
    "    n=None,\n",
    "    plot=True,\n",
    "    markers=None,\n",
    "    genes=None,\n",
    "    figsize=(6, 3.5),\n",
    "    markeroffsets=None,\n",
    "    labelsize=10,\n",
    "    alpha=1,\n",
    "):\n",
    "    zeroRate = 1 - np.mean(data > threshold, axis=0)\n",
    "    meanExpr = np.zeros_like(zeroRate) * np.nan\n",
    "    detected = zeroRate < 1\n",
    "    mask = data[:, detected] > threshold\n",
    "    logs = np.zeros_like(data[:, detected]) * np.nan\n",
    "    logs[mask] = np.log2(data[:, detected][mask])\n",
    "    meanExpr[detected] = np.nanmean(logs, axis=0)\n",
    "\n",
    "    lowDetection = (\n",
    "        np.array(np.sum(data > threshold, axis=0)).squeeze() < atleast\n",
    "    )\n",
    "    zeroRate[lowDetection] = np.nan\n",
    "    meanExpr[lowDetection] = np.nan\n",
    "\n",
    "    if n is not None:\n",
    "        up = 10\n",
    "        low = 0\n",
    "        for t in range(100):\n",
    "            nonan = ~np.isnan(zeroRate)\n",
    "            selected = np.zeros_like(zeroRate).astype(bool)\n",
    "            selected[nonan] = (\n",
    "                zeroRate[nonan]\n",
    "                > np.exp(-decay * (meanExpr[nonan] - xoffset)) + yoffset\n",
    "            )\n",
    "            if np.sum(selected) == n:\n",
    "                break\n",
    "            elif np.sum(selected) < n:\n",
    "                up = xoffset\n",
    "                xoffset = (xoffset + low) / 2\n",
    "            else:\n",
    "                low = xoffset\n",
    "                xoffset = (xoffset + up) / 2\n",
    "        print(\"Chosen offset: {:.2f}\".format(xoffset))\n",
    "    else:\n",
    "        nonan = ~np.isnan(zeroRate)\n",
    "        selected = np.zeros_like(zeroRate).astype(bool)\n",
    "        selected[nonan] = (\n",
    "            zeroRate[nonan]\n",
    "            > np.exp(-decay * (meanExpr[nonan] - xoffset)) + yoffset\n",
    "        )\n",
    "\n",
    "    if plot:\n",
    "        if figsize is not None:\n",
    "            plt.figure(figsize=figsize)\n",
    "        plt.ylim([0, 1])\n",
    "        if threshold > 0:\n",
    "            plt.xlim([np.log2(threshold), np.ceil(np.nanmax(meanExpr))])\n",
    "        else:\n",
    "            plt.xlim([0, np.ceil(np.nanmax(meanExpr))])\n",
    "        x = np.arange(plt.xlim()[0], plt.xlim()[1] + 0.1, 0.1)\n",
    "        y = np.exp(-decay * (x - xoffset)) + yoffset\n",
    "        if decay == 1:\n",
    "            plt.text(\n",
    "                0.4,\n",
    "                0.2,\n",
    "                \"{} genes selected\\ny = exp(-x+{:.2f})+{:.2f}\".format(\n",
    "                    np.sum(selected), xoffset, yoffset\n",
    "                ),\n",
    "                color=\"k\",\n",
    "                fontsize=labelsize,\n",
    "                transform=plt.gca().transAxes,\n",
    "            )\n",
    "        else:\n",
    "            plt.text(\n",
    "                0.4,\n",
    "                0.2,\n",
    "                \"{} genes selected\\ny = exp(-{:.1f}*(x-{:.2f}))+{:.2f}\".format(\n",
    "                    np.sum(selected), decay, xoffset, yoffset\n",
    "                ),\n",
    "                color=\"k\",\n",
    "                fontsize=labelsize,\n",
    "                transform=plt.gca().transAxes,\n",
    "            )\n",
    "\n",
    "        plt.plot(x, y, color=sns.color_palette()[1], linewidth=2)\n",
    "        xy = np.concatenate(\n",
    "            (\n",
    "                np.concatenate((x[:, None], y[:, None]), axis=1),\n",
    "                np.array([[plt.xlim()[1], 1]]),\n",
    "            )\n",
    "        )\n",
    "        t = plt.matplotlib.patches.Polygon(\n",
    "            xy, color=sns.color_palette()[1], alpha=0.4\n",
    "        )\n",
    "        plt.gca().add_patch(t)\n",
    "\n",
    "        plt.scatter(meanExpr, zeroRate, s=1, alpha=alpha, rasterized=True)\n",
    "        if threshold == 0:\n",
    "            plt.xlabel(\"Mean log2 nonzero expression\")\n",
    "            plt.ylabel(\"Frequency of zero expression\")\n",
    "        else:\n",
    "            plt.xlabel(\"Mean log2 nonzero expression\")\n",
    "            plt.ylabel(\"Frequency of near-zero expression\")\n",
    "        plt.tight_layout()\n",
    "\n",
    "        if markers is not None and genes is not None:\n",
    "            if markeroffsets is None:\n",
    "                markeroffsets = [(0, 0) for g in markers]\n",
    "            for num, g in enumerate(markers):\n",
    "                i = np.where(genes == g)[0]\n",
    "                plt.scatter(meanExpr[i], zeroRate[i], s=10, color=\"k\")\n",
    "                dx, dy = markeroffsets[num]\n",
    "                plt.text(\n",
    "                    meanExpr[i] + dx + 0.1,\n",
    "                    zeroRate[i] + dy,\n",
    "                    g,\n",
    "                    color=\"k\",\n",
    "                    fontsize=labelsize,\n",
    "                )\n",
    "        plt.show()\n",
    "    return selected"
   ]
  },
  {
   "cell_type": "code",
   "execution_count": null,
   "metadata": {},
   "outputs": [],
   "source": [
    "genesForRRR = geneSelection(\n",
    "    exonCounts, n=1000, threshold=32, decay=1.5, yoffset=0.02\n",
    ")\n",
    "print(np.sum(genesForRRR))"
   ]
  },
  {
   "cell_type": "markdown",
   "metadata": {},
   "source": [
    "## Normalization and Transformation"
   ]
  },
  {
   "cell_type": "markdown",
   "metadata": {},
   "source": [
    "### CTF normalization\n",
    "\n",
    "Write about the different methods. In blog they suggest one for single cell sequencing, but didnt find python implementation. Took CTF from another paper, which claimed it is more robust (https://genomebiology.biomedcentral.com/articles/10.1186/s13059-021-02568-9). Method is implemented in library (https://pypi.org/project/rnanorm/)\n",
    "\n"
   ]
  },
  {
   "cell_type": "code",
   "execution_count": null,
   "metadata": {},
   "outputs": [],
   "source": [
    "from rnanorm import CTF  # pip install rnanorm\n",
    "\n",
    "print(pd.DataFrame(exonCounts).shape)\n",
    "CTF_exon_counts = (\n",
    "    CTF()\n",
    "    .set_output(transform=\"pandas\")\n",
    "    .fit_transform(pd.DataFrame(exonCounts))\n",
    ")\n",
    "CTF_exon_counts = CTF_exon_counts.values"
   ]
  },
  {
   "cell_type": "code",
   "execution_count": null,
   "metadata": {},
   "outputs": [],
   "source": [
    "fig, axs = plt.subplots(1, 2, figsize=(10, 4))\n",
    "log_CTF_exon_counts = np.log2(CTF_exon_counts + 1)\n",
    "axs[0].scatter(\n",
    "    np.mean(log_CTF_exon_counts, axis=0),\n",
    "    np.var(log_CTF_exon_counts, axis=0),\n",
    "    s=10,\n",
    ")\n",
    "axs[0].plot(\n",
    "    np.arange(0, np.max(np.mean(log_CTF_exon_counts, axis=0)), 1),\n",
    "    np.arange(0, np.max(np.mean(log_CTF_exon_counts, axis=0)), 1),\n",
    "    color=\"r\",\n",
    "    linewidth=2,\n",
    "    label=\"y = x\",\n",
    ")\n",
    "\n",
    "axs[0].set_xscale(\"log\")\n",
    "axs[0].set_yscale(\"log\")\n",
    "axs[0].set_xlabel(\"Mean Expression\")\n",
    "axs[0].set_ylabel(\"Expression Variance\")\n",
    "axs[0].set_title(\"Gene variance vs mean expression\")\n",
    "axs[0].tick_params(which=\"minor\", length=1, color=\"k\")\n",
    "axs[0].tick_params(which=\"major\", length=5, color=\"k\")\n",
    "axs[0].legend()\n",
    "\n",
    "# Fano Plot\n",
    "axs[1].scatter(\n",
    "    np.mean(log_CTF_exon_counts, axis=0),\n",
    "    np.var(log_CTF_exon_counts, axis=0) / np.mean(log_CTF_exon_counts, axis=0),\n",
    "    s=10,\n",
    ")\n",
    "axs[1].plot(\n",
    "    np.arange(0, np.max(np.mean(log_CTF_exon_counts, axis=0)), 1),\n",
    "    np.ones(\n",
    "        np.arange(0, np.max(np.mean(log_CTF_exon_counts, axis=0)), 1).size\n",
    "    ),\n",
    "    color=\"r\",\n",
    "    linewidth=2,\n",
    "    label=\"Model: F = 1\",\n",
    ")\n",
    "axs[1].set_xlabel(\"Mean Expression\")\n",
    "axs[1].set_ylabel(\"Fano Factor\")\n",
    "axs[1].set_title(\"Fano Factor vs mean expression\")\n",
    "axs[1].set_ylim(0.01, 20)\n",
    "axs[1].set_xscale(\"log\")\n",
    "axs[1].set_yscale(\"log\")\n",
    "axs[1].tick_params(which=\"minor\", length=2, color=\"k\")\n",
    "axs[1].tick_params(which=\"major\", length=5, color=\"k\")\n",
    "\n",
    "axs[1].legend()"
   ]
  },
  {
   "cell_type": "markdown",
   "metadata": {},
   "source": [
    "In GitHub of original paper, it seems that the normalization applied was: counts / (exonLenght / 1000). So we will also use this one for comparison.\n",
    "\n"
   ]
  },
  {
   "attachments": {
    "image.png": {
     "image/png": "[encoded data removed]"
    }
   },
   "cell_type": "markdown",
   "metadata": {},
   "source": [
    "![image.png](attachment:image.png)"
   ]
  },
  {
   "cell_type": "code",
   "execution_count": null,
   "metadata": {},
   "outputs": [],
   "source": []
  },
  {
   "cell_type": "code",
   "execution_count": null,
   "metadata": {},
   "outputs": [],
   "source": [
    "norm_counts = exonCounts / (exonLengths / 1000)\n",
    "log_norm_counts = np.log2(norm_counts + 1)\n",
    "\n",
    "fig, axs = plt.subplots(1, 2, figsize=(10, 4))\n",
    "\n",
    "axs[0].scatter(\n",
    "    np.mean(log_norm_counts, axis=0),\n",
    "    np.var(log_norm_counts, axis=0),\n",
    "    s=10,\n",
    ")\n",
    "axs[0].plot(\n",
    "    np.arange(0, np.max(np.mean(log_norm_counts, axis=0)), 1),\n",
    "    np.arange(0, np.max(np.mean(log_norm_counts, axis=0)), 1),\n",
    "    color=\"r\",\n",
    "    linewidth=2,\n",
    "    label=\"y = x\",\n",
    ")\n",
    "\n",
    "axs[0].set_xscale(\"log\")\n",
    "axs[0].set_yscale(\"log\")\n",
    "axs[0].set_xlabel(\"Mean Expression\")\n",
    "axs[0].set_ylabel(\"Expression Variance\")\n",
    "axs[0].set_title(\"Gene variance vs mean expression\")\n",
    "axs[0].tick_params(which=\"minor\", length=1, color=\"k\")\n",
    "axs[0].tick_params(which=\"major\", length=5, color=\"k\")\n",
    "axs[0].legend()\n",
    "\n",
    "\n",
    "# add plot\n",
    "axs[1].scatter(\n",
    "    np.mean(log_norm_counts, axis=0),\n",
    "    np.var(log_norm_counts, axis=0) / np.mean(log_norm_counts, axis=0),\n",
    "    s=10,\n",
    ")\n",
    "\n",
    "axs[1].plot(\n",
    "    np.arange(0, np.max(np.mean(log_norm_counts, axis=0)), 1),\n",
    "    np.ones(np.arange(0, np.max(np.mean(log_norm_counts, axis=0)), 1).size),\n",
    "    color=\"r\",\n",
    "    linewidth=2,\n",
    "    label=\"Model: F = 1\",\n",
    ")\n",
    "\n",
    "axs[1].set_xlabel(\"Mean Expression\")\n",
    "axs[1].set_ylabel(\"Fano Factor\")\n",
    "axs[1].set_title(\"Normalized Counts: Fano Factor vs Mean Expression\")\n",
    "axs[1].set_ylim(0.01, 20)\n",
    "axs[1].set_xscale(\"log\")\n",
    "axs[1].set_yscale(\"log\")\n",
    "axs[1].tick_params(which=\"minor\", length=2, color=\"k\")\n",
    "axs[1].tick_params(which=\"major\", length=5, color=\"k\")\n",
    "axs[1].legend()"
   ]
  },
  {
   "cell_type": "code",
   "execution_count": null,
   "metadata": {},
   "outputs": [],
   "source": [
    "depth_median = np.median(depth)\n",
    "norm_factor = depth_median * (1 / depth)\n",
    "\n",
    "norm_counts = norm_factor[:, np.newaxis] * exonCounts\n",
    "# norm_counts = exonCounts / (exonLengths / 1000)\n",
    "log_norm_counts = np.log2(norm_counts + 1)\n",
    "\n",
    "fig, axs = plt.subplots(1, 2, figsize=(10, 4))\n",
    "\n",
    "axs[0].scatter(\n",
    "    np.mean(log_norm_counts, axis=0),\n",
    "    np.var(log_norm_counts, axis=0),\n",
    "    s=10,\n",
    ")\n",
    "axs[0].plot(\n",
    "    np.arange(0, np.max(np.mean(log_norm_counts, axis=0)), 1),\n",
    "    np.arange(0, np.max(np.mean(log_norm_counts, axis=0)), 1),\n",
    "    color=\"r\",\n",
    "    linewidth=2,\n",
    "    label=\"y = x\",\n",
    ")\n",
    "\n",
    "axs[0].set_xscale(\"log\")\n",
    "axs[0].set_yscale(\"log\")\n",
    "axs[0].set_xlabel(\"Mean Expression\")\n",
    "axs[0].set_ylabel(\"Expression Variance\")\n",
    "axs[0].set_title(\"Gene variance vs mean expression\")\n",
    "axs[0].tick_params(which=\"minor\", length=1, color=\"k\")\n",
    "axs[0].tick_params(which=\"major\", length=5, color=\"k\")\n",
    "axs[0].legend()\n",
    "\n",
    "\n",
    "# add plot\n",
    "axs[1].scatter(\n",
    "    np.mean(log_norm_counts, axis=0),\n",
    "    np.var(log_norm_counts, axis=0) / np.mean(log_norm_counts, axis=0),\n",
    "    s=10,\n",
    ")\n",
    "\n",
    "axs[1].plot(\n",
    "    np.arange(0, np.max(np.mean(log_norm_counts, axis=0)), 1),\n",
    "    np.ones(np.arange(0, np.max(np.mean(log_norm_counts, axis=0)), 1).size),\n",
    "    color=\"r\",\n",
    "    linewidth=2,\n",
    "    label=\"Model: F = 1\",\n",
    ")\n",
    "\n",
    "axs[1].set_xlabel(\"Mean Expression\")\n",
    "axs[1].set_ylabel(\"Fano Factor\")\n",
    "axs[1].set_title(\"Normalized Counts: Fano Factor vs Mean Expression\")\n",
    "axs[1].set_ylim(0.01, 20)\n",
    "axs[1].set_xscale(\"log\")\n",
    "axs[1].set_yscale(\"log\")\n",
    "axs[1].tick_params(which=\"minor\", length=2, color=\"k\")\n",
    "axs[1].tick_params(which=\"major\", length=5, color=\"k\")\n",
    "axs[1].legend()"
   ]
  },
  {
   "cell_type": "markdown",
   "metadata": {},
   "source": [
    "### PCA vizualization for different transformations and normalization"
   ]
  },
  {
   "cell_type": "code",
   "execution_count": null,
   "metadata": {},
   "outputs": [],
   "source": [
    "# Perform PCA three times for each normalization: on the resulting matrix as is,\n",
    "# after np.log2(X+1) transform, and after np.sqrt(X) transform\n",
    "\n",
    "from sklearn.decomposition import PCA\n",
    "\n",
    "\n",
    "Fano = np.var(log_CTF_exon_counts, axis=0) / np.mean(\n",
    "    log_CTF_exon_counts, axis=0\n",
    ")\n",
    "Selected_genes = Fano > 5\n",
    "print(np.sum(Selected_genes))\n",
    "# CTF\n",
    "sqrt_CTF = np.sqrt(CTF_exon_counts)\n",
    "\n",
    "# perform PCA\n",
    "pca = PCA(n_components=50)\n",
    "pca_CTF = pca.fit_transform(CTF_exon_counts[:, genesForRRR])\n",
    "pca_log_CTF = pca.fit_transform(log_CTF_exon_counts[:, genesForRRR])\n",
    "pca_sqrt_CTF = pca.fit_transform(sqrt_CTF[:, genesForRRR])\n",
    "\n",
    "# Gene lenght norm\n",
    "Fano = np.var(log_norm_counts, axis=0) / np.mean(log_norm_counts, axis=0)\n",
    "Selected_genes = Fano > 6\n",
    "print(np.sum(Selected_genes))\n",
    "\n",
    "sqrt_norm = np.sqrt(norm_counts)\n",
    "\n",
    "# perform PCA\n",
    "pca = PCA(n_components=50)\n",
    "pca_norm_counts = pca.fit_transform(norm_counts[:, Selected_genes])\n",
    "pca_log2__norm_counts = pca.fit_transform(log_norm_counts[:, Selected_genes])\n",
    "pca_sqrt_norm_counts = pca.fit_transform(sqrt_norm[:, Selected_genes])"
   ]
  },
  {
   "cell_type": "code",
   "execution_count": null,
   "metadata": {},
   "outputs": [],
   "source": [
    "fig, axs = plt.subplots(2, 3, figsize=(9, 6))\n",
    "axs = axs.flatten()\n",
    "\n",
    "# Plot CTF\n",
    "\n",
    "axs[0].scatter(pca_CTF[:, 0], pca_CTF[:, 1], s=3, c=cluster_colors, alpha=0.8)\n",
    "axs[0].set_title(\"PCA\")\n",
    "\n",
    "axs[1].scatter(\n",
    "    pca_log_CTF[:, 0], pca_log_CTF[:, 1], s=3, c=cluster_colors, alpha=0.8\n",
    ")\n",
    "axs[1].set_title(\"PCA after $log_2(X+1)$\")\n",
    "\n",
    "axs[2].scatter(\n",
    "    pca_sqrt_CTF[:, 0], pca_sqrt_CTF[:, 1], s=3, c=cluster_colors, alpha=0.8\n",
    ")\n",
    "axs[2].set_title(\"PCA after sqrt\")\n",
    "\n",
    "axs[3].scatter(\n",
    "    pca_norm_counts[:, 0],\n",
    "    pca_norm_counts[:, 1],\n",
    "    s=3,\n",
    "    c=cluster_colors,\n",
    "    alpha=0.8,\n",
    ")\n",
    "axs[3].set_title(\"PCA\")\n",
    "\n",
    "axs[4].scatter(\n",
    "    pca_log2__norm_counts[:, 0],\n",
    "    pca_log2__norm_counts[:, 1],\n",
    "    s=3,\n",
    "    c=cluster_colors,\n",
    "    alpha=0.8,\n",
    ")\n",
    "axs[4].set_title(\"PCA after $log_2(X+1)$\")\n",
    "axs[4].set_xlim(-50, 100)\n",
    "axs[4].set_ylim(-75, 75)\n",
    "\n",
    "axs[5].scatter(\n",
    "    pca_sqrt_norm_counts[:, 0],\n",
    "    pca_sqrt_norm_counts[:, 1],\n",
    "    s=3,\n",
    "    c=cluster_colors,\n",
    "    alpha=0.8,\n",
    ")\n",
    "axs[5].set_title(\"PCA after sqrt\")\n",
    "axs[5].set_xlim(-300, 300)\n",
    "axs[5].set_ylim(-200, 200)\n",
    "\n",
    "\n",
    "fig.supxlabel(\"$1^{st}$ PC\")\n",
    "fig.supylabel(\"$2^{nd}$ PC\")"
   ]
  },
  {
   "cell_type": "code",
   "execution_count": null,
   "metadata": {},
   "outputs": [],
   "source": [
    "tsne = TSNE(perplexity=30)\n",
    "tsne_counts = tsne.fit(pca_sqrt_norm_counts)\n",
    "fig, axs = plt.subplots()\n",
    "axs.scatter(\n",
    "    tsne_counts[:, 0], tsne_counts[:, 1], s=20, c=cluster_colors, alpha=0.8\n",
    ")\n",
    "axs.set_title(\"TSNE\")\n",
    "axs.set_axis_off()"
   ]
  },
  {
   "cell_type": "code",
   "execution_count": null,
   "metadata": {},
   "outputs": [],
   "source": [
    "?TSNE"
   ]
  }
 ],
 "metadata": {
  "kernelspec": {
   "display_name": "Python 3 (ipykernel)",
   "language": "python",
   "name": "python3"
  },
  "language_info": {
   "codemirror_mode": {
    "name": "ipython",
    "version": 3
   },
   "file_extension": ".py",
   "mimetype": "text/x-python",
   "name": "python",
   "nbconvert_exporter": "python",
   "pygments_lexer": "ipython3",
   "version": "3.10.0"
  }
 },
 "nbformat": 4,
 "nbformat_minor": 4
}
